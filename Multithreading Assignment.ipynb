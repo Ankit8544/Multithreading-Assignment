{
 "cells": [
  {
   "cell_type": "markdown",
   "id": "c52dcdf0-ed17-4411-bf7f-5999f629b4f5",
   "metadata": {},
   "source": [
    "Q.No-01    What is multithreading in python? Why is it used? Name the module used to handle threads in python."
   ]
  },
  {
   "cell_type": "markdown",
   "id": "aaf980a8-aa7b-4094-a69f-18086af3d8ba",
   "metadata": {},
   "source": [
    "Ans :-"
   ]
  },
  {
   "cell_type": "markdown",
   "id": "a79c47b9-19ac-42e9-ae54-63f9fd8a2124",
   "metadata": {},
   "source": [
    "*    Multithreading :-"
   ]
  },
  {
   "cell_type": "markdown",
   "id": "e55c647b-ea0f-4df4-bd27-1ef1ac50b650",
   "metadata": {},
   "source": [
    "    Multithreading in Python refers to the ability of a program to execute multiple threads concurrently, allowing for parallel execution of tasks. A thread is a lightweight unit of execution within a process. By using multiple threads, a program can perform multiple tasks simultaneously, thereby improving overall efficiency and responsiveness."
   ]
  },
  {
   "cell_type": "markdown",
   "id": "a9706617-90ab-46bc-99ba-d3b773b63687",
   "metadata": {},
   "source": [
    "*    Example :-"
   ]
  },
  {
   "cell_type": "code",
   "execution_count": 1,
   "id": "cb2db656-55ef-49a6-bd51-e3c4ffea37d3",
   "metadata": {},
   "outputs": [
    {
     "name": "stdout",
     "output_type": "stream",
     "text": [
      "Uppercase Alphabet :- \n",
      "\n",
      "A,B,C,D,E,F,G,H,I,J,K,L,M,N,O,P,Q,R,S,T,U,V,W,X,Y,Z,\n",
      "\n",
      "Lowercase Alphabet :- \n",
      "\n",
      "a,b,c,d,e,f,g,h,i,j,k,l,m,n,o,p,q,r,s,t,u,v,w,x,y,z,"
     ]
    }
   ],
   "source": [
    "import logging\n",
    "Multithreading = logging.getLogger('Multithreading')\n",
    "Multithreading.setLevel(logging.DEBUG)\n",
    "file_handler1 = logging.FileHandler('Multithreading.log')\n",
    "file_handler1.setLevel(logging.DEBUG)\n",
    "formatter1 = logging.Formatter('%(name)s - %(levelname)s - %(message)s')\n",
    "file_handler1.setFormatter(formatter1)\n",
    "Multithreading.addHandler(file_handler1)\n",
    "\n",
    "Multithreading.info(\"Importing Module\")\n",
    "import string\n",
    "import threading\n",
    "\n",
    "Multithreading.info(\"Defining a function for printing a Uppercase Alphabet\")\n",
    "def Uppercase_Alphabet():\n",
    "    print(\"Uppercase Alphabet :- \\n\")\n",
    "    for letter in string.ascii_uppercase:\n",
    "        print(letter, end=\",\")\n",
    "\n",
    "\n",
    "Multithreading.info(\"Defining a function for printing a Uppercase Alphabet\")\n",
    "def Lowercase_Alphabet():\n",
    "    print(\"\\n\\nLowercase Alphabet :- \\n\")\n",
    "    for letter in string.ascii_lowercase:\n",
    "        print(letter, end=\",\")\n",
    "\n",
    "Multithreading.info(\"Creating Thread Object named with UpperCase_Alphabet\")\n",
    "UpperCase_Alphabet = (threading.Thread(target=Uppercase_Alphabet))\n",
    "Multithreading.info(\"Creating Thread Object named with LowerCase_Alphabet\")\n",
    "LowerCase_Alphabet = (threading.Thread(target=Lowercase_Alphabet))\n",
    "\n",
    "UpperCase_Alphabet.start()\n",
    "Multithreading.info(\"Finally, Starting the Thread of the function Uppercase_Alphabet\")\n",
    "\n",
    "\n",
    "LowerCase_Alphabet.start()\n",
    "Multithreading.info(\"Finally, Starting the Thread of the function Uppercase_Alphabet\")"
   ]
  },
  {
   "cell_type": "markdown",
   "id": "42d4a178-d7de-42e1-b22e-1f4ee09c3fc6",
   "metadata": {},
   "source": [
    "*    Multithreading is used in Python for various reasons, including :-"
   ]
  },
  {
   "cell_type": "markdown",
   "id": "bb99297b-4de6-4860-972d-95891942fd3c",
   "metadata": {},
   "source": [
    "1. Utilizing multiple CPU cores: Multithreading enables efficient utilization of multiple CPU cores by distributing tasks among different threads. This is especially useful for computationally intensive tasks or programs that need to handle multiple simultaneous operations.\n",
    "\n",
    "2. Asynchronous programming: Multithreading allows for asynchronous programming, where different parts of a program can run concurrently without blocking each other. This is beneficial for tasks such as handling I/O operations, network communication, or user interfaces, where waiting for an operation to complete could cause delays.\n",
    "\n",
    "3. Responsiveness and user experience: By offloading time-consuming tasks to separate threads, the main thread of a program remains responsive, providing a better user experience. For example, in graphical user interfaces, long-running operations can be executed in the background while the interface remains interactive."
   ]
  },
  {
   "cell_type": "markdown",
   "id": "4cdd1849-9fe0-4552-b86f-0dd4a5009b28",
   "metadata": {},
   "source": [
    "*    Name of the module used to handle threads in python :-"
   ]
  },
  {
   "cell_type": "markdown",
   "id": "52064d75-690e-4eeb-b7e8-8c60fe5dc232",
   "metadata": {},
   "source": [
    "    `threading`"
   ]
  },
  {
   "cell_type": "markdown",
   "id": "6232fb07-1811-45af-add2-b9c022c8b54c",
   "metadata": {},
   "source": [
    "-------------------------------------------------------------------------------------------------------------------"
   ]
  },
  {
   "cell_type": "markdown",
   "id": "e9972932-caf6-42a6-be35-507d5e6d5876",
   "metadata": {},
   "source": [
    "Q.No-02    Why threading module used? Write the use of the following functions :-\n",
    "1.    activeCount()\n",
    "2.    currentThread()\n",
    "3.    enumerate()"
   ]
  },
  {
   "cell_type": "markdown",
   "id": "f65fc532-1b31-4996-b022-84713d784c68",
   "metadata": {},
   "source": [
    "Ans :-"
   ]
  },
  {
   "cell_type": "markdown",
   "id": "dc8fbe70-28ce-47c4-bc68-793c3672315e",
   "metadata": {},
   "source": [
    "The `threading` module in Python is used for several reasons :-"
   ]
  },
  {
   "cell_type": "markdown",
   "id": "30dd8727-5473-48a8-ae3e-9e698a2b6960",
   "metadata": {},
   "source": [
    "1. Thread creation and management :- The `threading` module provides a high-level, object-oriented interface for creating and managing threads. It allows you to create new threads easily and control their behavior, such as starting, stopping, pausing, and joining threads."
   ]
  },
  {
   "cell_type": "markdown",
   "id": "b0bb4f6a-96bf-49d6-aba0-891aa671d310",
   "metadata": {},
   "source": [
    "2. Concurrent execution :- With the `threading` module, you can execute multiple threads concurrently. This means that different parts of your program can run simultaneously, performing tasks independently and potentially speeding up the overall execution time."
   ]
  },
  {
   "cell_type": "markdown",
   "id": "f250662b-eea3-4ce8-9ae2-bfb074075b6d",
   "metadata": {},
   "source": [
    "3. Asynchronous programming :- The `threading` module enables asynchronous programming, where threads can perform tasks independently without blocking the execution of other threads. This is especially useful for handling I/O operations or waiting for external resources like network requests. Asynchronous programming allows for more efficient resource utilization and can improve the responsiveness of your program."
   ]
  },
  {
   "cell_type": "markdown",
   "id": "93f7466b-97ea-4843-8019-5e15ab31474c",
   "metadata": {},
   "source": [
    "4. Synchronization and coordination :- The `threading` module provides synchronization mechanisms such as locks, semaphores, and condition variables, which help manage access to shared resources and ensure thread safety. These synchronization tools allow you to coordinate the execution of threads, prevent race conditions, and avoid conflicts when multiple threads access shared data."
   ]
  },
  {
   "cell_type": "markdown",
   "id": "fe9721d6-4145-4a06-876c-75ebf1d41312",
   "metadata": {},
   "source": [
    "5. Parallelism and performance' :- By using the `threading` module, you can take advantage of multiple CPU cores and achieve parallel execution of tasks. This can significantly improve the performance of computationally intensive operations or tasks that can be parallelized, such as data processing or scientific computations."
   ]
  },
  {
   "cell_type": "markdown",
   "id": "f88fff51-191f-4ca8-87e4-ea463f330c00",
   "metadata": {},
   "source": [
    "## Function of Threading :-"
   ]
  },
  {
   "cell_type": "markdown",
   "id": "ef75055a-a910-4799-a429-c452eec1c687",
   "metadata": {},
   "source": [
    "*    `activeCount()` :-  The activeCount() function is used to retrieve the number of Thread objects currently active and running in the current thread's ThreadGroup."
   ]
  },
  {
   "cell_type": "markdown",
   "id": "5f752c94-92a0-48d4-8ccb-8a3b8c6dc23e",
   "metadata": {},
   "source": [
    "*    `currentThread()` :- The currentThread() function returns a reference to the currently executing Thread object."
   ]
  },
  {
   "cell_type": "markdown",
   "id": "5392be54-3144-4da0-bbb4-b643d6f0854b",
   "metadata": {},
   "source": [
    "*    `enumerate()` :- The enumerate() function returns a list of all Thread objects currently alive and running in the current thread's ThreadGroup."
   ]
  },
  {
   "cell_type": "markdown",
   "id": "6a4b41a8-14d5-44b6-b005-65b62cd0beb6",
   "metadata": {},
   "source": [
    "-------------------------------------------------------------------------------------------------------------------"
   ]
  },
  {
   "cell_type": "markdown",
   "id": "bbfbc460-8c8d-4b91-99e8-5e94abddb50d",
   "metadata": {},
   "source": [
    "Q.No-03    Explain the following functions :-\n",
    "1.    run()\n",
    "2.    start()\n",
    "3.    join()\n",
    "4.    isAlive()"
   ]
  },
  {
   "cell_type": "markdown",
   "id": "abfd7948-f06a-4e16-a373-c00aab87d789",
   "metadata": {},
   "source": [
    "Ans :-"
   ]
  },
  {
   "cell_type": "markdown",
   "id": "2481cdbd-b745-4121-9849-8525075572e0",
   "metadata": {},
   "source": [
    "1. `run()`: The `run()` function is a method that is typically defined within a class and is responsible for executing the desired code or logic associated with that class. It represents the entry point of the execution for a specific thread."
   ]
  },
  {
   "cell_type": "code",
   "execution_count": 2,
   "id": "0ad1ae60-7da8-46f6-9f66-427ffc402cc3",
   "metadata": {},
   "outputs": [],
   "source": [
    "import logging\n",
    "Function_logger = logging.getLogger('Function_logger')\n",
    "Function_logger.setLevel(logging.DEBUG)\n",
    "file_handler2 = logging.FileHandler('Function_logger.log')\n",
    "file_handler2.setLevel(logging.DEBUG)\n",
    "formatter2 = logging.Formatter('%(name)s - %(levelname)s - %(message)s')\n",
    "file_handler2.setFormatter(formatter2)\n",
    "Function_logger.addHandler(file_handler2)"
   ]
  },
  {
   "cell_type": "code",
   "execution_count": 3,
   "id": "d2d44bd9-4748-489c-90f1-c710952c23e7",
   "metadata": {},
   "outputs": [
    {
     "name": "stdout",
     "output_type": "stream",
     "text": [
      "Hello, World!\n",
      "Hello, World!\n",
      "Hello, World!\n",
      "Hello, World!\n",
      "Hello, World!\n"
     ]
    }
   ],
   "source": [
    "Function_logger.info(\"Example of run() function\")\n",
    "Function_logger.info(\"Importing Threading Module\")\n",
    "import threading\n",
    "\n",
    "Function_logger.info(\"The MyThread class is defined as a subclass of threading.Thread\")\n",
    "class MyThread(threading.Thread):\n",
    "    def run(self):\n",
    "        for i in range(5):\n",
    "            Function_logger.info(\"Hello, World!\")\n",
    "            print(\"Hello, World!\")\n",
    "\n",
    "# Creating and starting the thread\n",
    "thread = MyThread()\n",
    "thread.start()"
   ]
  },
  {
   "cell_type": "markdown",
   "id": "2e4242ee-390a-49c8-a480-9bae1f73cefa",
   "metadata": {},
   "source": [
    "2. `start()`: The `start()` function is a method that is used to start the execution of a thread. It allocates the necessary system resources and calls the `run()` method of the thread."
   ]
  },
  {
   "cell_type": "code",
   "execution_count": 4,
   "id": "682cde45-5c7c-4c92-b079-5b8840d045e4",
   "metadata": {},
   "outputs": [
    {
     "name": "stdout",
     "output_type": "stream",
     "text": [
      "Jai Shree Ram\n",
      "Jai Shree Ram\n",
      "Jai Shree Ram\n",
      "Jai Shree Ram\n",
      "Jai Shree Ram\n"
     ]
    }
   ],
   "source": [
    "Function_logger.info(\"Example of start() function\")\n",
    "Function_logger.info(\"Importing Threading Module\")\n",
    "import threading\n",
    "\n",
    "Function_logger.info(\"Defining a function\")\n",
    "def my_function():\n",
    "    for i in range(5):\n",
    "        Function_logger.info(\"Jai Shree Ram\")\n",
    "        print(\"Jai Shree Ram\")\n",
    "\n",
    "# Creating and starting the thread\n",
    "thread = threading.Thread(target=my_function)\n",
    "thread.start()"
   ]
  },
  {
   "cell_type": "markdown",
   "id": "30f80903-a0c6-403a-a2bc-69cabc8a54a8",
   "metadata": {},
   "source": [
    "3. `join()`: The `join()` function is a method that blocks the execution of the current thread until the thread on which it is called has finished executing. It allows the program to wait for the completion of a thread before proceeding further."
   ]
  },
  {
   "cell_type": "code",
   "execution_count": 5,
   "id": "4315e8b5-a825-45ff-b95e-58e48ce58b64",
   "metadata": {},
   "outputs": [
    {
     "name": "stdout",
     "output_type": "stream",
     "text": [
      "Thread executing\n",
      "Thread executing\n",
      "Thread executing\n",
      "Thread executing\n",
      "Thread executing\n",
      "Thread execution completed\n"
     ]
    }
   ],
   "source": [
    "Function_logger.info(\"Example of start() function\")\n",
    "Function_logger.info(\"Importing Threading Module\")\n",
    "import threading\n",
    "\n",
    "Function_logger.info(\"Defining a function\")\n",
    "def my_function():\n",
    "    for i in range(5):\n",
    "        Function_logger.info(\"Thread executing\")\n",
    "        print(\"Thread executing\")\n",
    "\n",
    "# Creating and starting the thread\n",
    "thread = threading.Thread(target=my_function)\n",
    "thread.start()\n",
    "\n",
    "# Waiting for the thread to complete\n",
    "thread.join()\n",
    "\n",
    "Function_logger.info(\"Thread execution completed\")\n",
    "print(\"Thread execution completed\")"
   ]
  },
  {
   "cell_type": "markdown",
   "id": "da4010d4-343c-4114-a4a5-2c8f6686e215",
   "metadata": {},
   "source": [
    "4. `isAlive()`: The `isAlive()` function is a method that returns a Boolean value indicating whether a thread is currently alive or not. It checks if the thread has finished executing or if it is still running.The `Thread` object in Python does not have an `isAlive()` attribute.\n"
   ]
  },
  {
   "cell_type": "markdown",
   "id": "8977bf8a-0f27-43d8-861e-4ff4f4c69279",
   "metadata": {},
   "source": [
    "-------------------------------------------------------------------------------------------------------------------"
   ]
  },
  {
   "cell_type": "markdown",
   "id": "c76a3071-c058-44a9-842d-0863e1360e7f",
   "metadata": {},
   "source": [
    "Q.No-04    Write a python program to create two threads. Thread one must print the list of squares and thread\n",
    "two must print the list of cubes."
   ]
  },
  {
   "cell_type": "markdown",
   "id": "4f10119c-dfe1-4fc6-9b24-66c6665f180e",
   "metadata": {},
   "source": [
    "Ans :-"
   ]
  },
  {
   "cell_type": "code",
   "execution_count": 6,
   "id": "ab87f305-9609-4e91-a7ba-da7a3d49fb52",
   "metadata": {},
   "outputs": [],
   "source": [
    "import logging\n",
    "Square_OR_Cube = logging.getLogger('Square_OR_Cube')\n",
    "Square_OR_Cube.setLevel(logging.DEBUG)\n",
    "file_handler3 = logging.FileHandler('Square_OR_Cube.log')\n",
    "file_handler3.setLevel(logging.DEBUG)\n",
    "formatter3 = logging.Formatter('%(name)s - %(levelname)s - %(message)s')\n",
    "file_handler3.setFormatter(formatter3)\n",
    "Square_OR_Cube.addHandler(file_handler3)"
   ]
  },
  {
   "cell_type": "code",
   "execution_count": 7,
   "id": "70bdee60-e217-41b1-8c44-a209d75cd446",
   "metadata": {},
   "outputs": [
    {
     "name": "stdout",
     "output_type": "stream",
     "text": [
      "Square of the [1, 2, 3, 4, 5, 6, 7, 8, 9, 10] :- \n",
      " [1, 4, 9, 16, 25, 36, 49, 64, 81, 100] \n",
      "\n",
      "Cubes of the [1, 2, 3, 4, 5, 6, 7, 8, 9, 10] :- \n",
      " [1, 8, 27, 64, 125, 216, 343, 512, 729, 1000]\n"
     ]
    }
   ],
   "source": [
    "Square_OR_Cube.info(\"Here is the program to Calculate Squares and Cubes\")\n",
    "Square_OR_Cube.info(\"Importing Threading Module\")\n",
    "import threading\n",
    "\n",
    "List = [1,2,3,4,5,6,7,8,9,10]\n",
    "Square_OR_Cube.info(\"Taking a List \")\n",
    "\n",
    "Square_list = []\n",
    "Square_OR_Cube.info(\"Taking a Empty List with named Square_list\")\n",
    "\n",
    "Cube_list = []\n",
    "Square_OR_Cube.info(\"Taking a Empty List with named Cube_list\")\n",
    "\n",
    "Square_OR_Cube.info(\"Defining a function to Calculate the Square of the Given List\")\n",
    "def Squares(List):\n",
    "    for i in List:\n",
    "        SQUARES = i ** 2\n",
    "        Square_list.append(SQUARES)\n",
    "\n",
    "Square_OR_Cube.info(\"Defining a function to Calculate the Cube of the Given List\")\n",
    "def Cubes(List):\n",
    "    for i in List:\n",
    "        CUBES = i ** 3\n",
    "        Cube_list.append(CUBES)\n",
    "        \n",
    "# Create thread one for printing squares\n",
    "thread_one = threading.Thread(target=Squares, args=(List,))\n",
    "thread_one.start()\n",
    "\n",
    "# Create thread two for printing cubes\n",
    "thread_two = threading.Thread(target=Cubes, args=(List,))\n",
    "thread_two.start()\n",
    "\n",
    "thread_one.join()\n",
    "thread_two.join()\n",
    "\n",
    "\n",
    "print(\"Square of the\", List ,\":- \\n\",Square_list,\"\\n\")\n",
    "print(\"Cubes of the\", List ,\":- \\n\", Cube_list)\n",
    "\n",
    "Square_OR_Cube.info(Square_list)\n",
    "Square_OR_Cube.info(Cube_list)"
   ]
  },
  {
   "cell_type": "markdown",
   "id": "41b18def-7dd3-4391-be36-46b50c90bca2",
   "metadata": {},
   "source": [
    "-------------------------------------------------------------------------------------------------------------------"
   ]
  },
  {
   "cell_type": "markdown",
   "id": "794286a3-d101-4a56-95ff-d4afa90ac1cc",
   "metadata": {},
   "source": [
    "Q.No-05    State advantages and disadvantages of multithreading."
   ]
  },
  {
   "cell_type": "markdown",
   "id": "4326e080-5ba8-4f69-a012-8cf31a88467d",
   "metadata": {},
   "source": [
    "Ans :-"
   ]
  },
  {
   "cell_type": "markdown",
   "id": "50e64233-3d04-4d7f-b33e-8fcecb4f618a",
   "metadata": {},
   "source": [
    "Multithreading is a programming technique that involves the execution of multiple threads within a single process. It offers several advantages and disadvantages, which I'll outline below:"
   ]
  },
  {
   "cell_type": "markdown",
   "id": "c9f29cf3-0602-4006-af8a-b1dcf6c3d7b9",
   "metadata": {},
   "source": [
    "Advantages of Multithreading:\n",
    "\n",
    "1. Increased Responsiveness: Multithreading allows for concurrent execution of multiple tasks or processes, which can enhance the responsiveness of an application. For example, in a graphical user interface (GUI) application, using threads can prevent the user interface from becoming unresponsive while performing time-consuming operations.\n",
    "\n",
    "2. Improved Performance: By dividing a program into multiple threads, it becomes possible to execute different parts of the program simultaneously on multiple CPU cores or processors. This parallel processing can lead to improved performance and faster execution times, especially in tasks that are computationally intensive or I/O bound.\n",
    "\n",
    "3. Resource Sharing: Threads within a process share the same memory space, which enables efficient communication and sharing of data between threads. This eliminates the need for complex inter-process communication mechanisms and allows for easy sharing of resources such as variables, files, and network connections.\n",
    "\n",
    "4. Enhanced Scalability: Multithreading can improve the scalability of an application by efficiently utilizing available system resources. As the number of threads increases, the application can leverage additional CPU cores, allowing it to handle a larger number of concurrent requests or process larger datasets."
   ]
  },
  {
   "cell_type": "markdown",
   "id": "3be53fd8-f521-4d53-8abc-2516cdef262c",
   "metadata": {},
   "source": [
    "Disadvantages of Multithreading:\n",
    "\n",
    "1. Complexity and Synchronization: Multithreaded programming introduces additional complexity due to the need for synchronization mechanisms. Proper synchronization is crucial to prevent race conditions, deadlocks, and other concurrency-related issues. Ensuring thread safety and avoiding shared data conflicts can be challenging and may require careful design and testing.\n",
    "\n",
    "2. Increased Overhead: Multithreading comes with some overhead. Creating and managing threads require additional system resources, such as memory and CPU cycles. Moreover, coordinating and synchronizing threads can introduce additional computational overhead, which may impact the overall performance.\n",
    "\n",
    "3. Difficult Debugging: Debugging multithreaded programs can be more challenging than single-threaded ones. As multiple threads run concurrently and share resources, it can be difficult to reproduce and diagnose issues that arise due to thread interactions or data races. Debugging tools and techniques specific to multithreaded programming are often required.\n",
    "\n",
    "4. Platform Dependencies: Multithreading can be influenced by platform-specific factors such as operating system capabilities and underlying hardware architectures. This can lead to portability concerns, as code written for one platform may not behave the same way on another platform."
   ]
  },
  {
   "cell_type": "markdown",
   "id": "f5dba527-3654-4e2e-910b-69cc0c24bbf8",
   "metadata": {},
   "source": [
    "-------------------------------------------------------------------------------------------------------------------"
   ]
  },
  {
   "cell_type": "markdown",
   "id": "9dcba3c2-b210-4df3-9504-9fb422e32712",
   "metadata": {},
   "source": [
    "Q.No-06    Explain deadlocks and race conditions."
   ]
  },
  {
   "cell_type": "markdown",
   "id": "35b817c4-c665-4801-98f9-0db20812d803",
   "metadata": {},
   "source": [
    "Ans :-"
   ]
  },
  {
   "cell_type": "markdown",
   "id": "5888be32-72d6-4c49-9509-8b3f19d04e94",
   "metadata": {},
   "source": [
    "1. Deadlocks:\n",
    "A deadlock is a situation in which two or more threads or processes are unable to proceed because each is waiting for a resource that is held by another. In other words, it's a circular waiting condition. Deadlocks typically arise when four conditions are present simultaneously:\n",
    "\n",
    "- Mutual Exclusion: At least one resource can only be held by a single thread or process at a time.\n",
    "- Hold and Wait: A thread or process holding at least one resource is waiting to acquire additional resources held by other threads or processes.\n",
    "- No Preemption: Resources cannot be forcibly taken away from a thread or process; they must be released voluntarily.\n",
    "- Circular Wait: There is a circular chain of two or more threads or processes, where each thread/process is waiting for a resource held by the next thread/process in the chain.\n",
    "\n",
    "When a deadlock occurs, the affected threads or processes can remain in a blocked state indefinitely, causing the system to become unresponsive. Deadlocks can be challenging to detect and resolve, requiring careful system design, resource allocation strategies, and deadlock detection algorithms."
   ]
  },
  {
   "cell_type": "markdown",
   "id": "97c7372c-167e-487c-84c7-c4b977a85854",
   "metadata": {},
   "source": [
    "2. Race Conditions:\n",
    "A race condition occurs when the behavior of a program depends on the relative timing or interleaving of multiple threads or processes accessing shared resources. It arises when two or more threads/processes access a shared resource concurrently, and the final outcome depends on the execution order of the threads/processes. Race conditions can lead to unpredictable and erroneous results.\n",
    "\n",
    "For example, consider two threads attempting to increment a shared counter:\n",
    "\n",
    "Thread 1: counter = counter + 1\n",
    "Thread 2: counter = counter + 1\n",
    "\n",
    "If these two threads execute concurrently without proper synchronization, the following scenario can occur:\n",
    "\n",
    "1. Thread 1 reads the current value of the counter (e.g., 5) into a register.\n",
    "2. Thread 2 reads the same value (5) into another register.\n",
    "3. Thread 1 increments its register value by 1 (register value becomes 6).\n",
    "4. Thread 2 also increments its register value by 1 (register value becomes 6).\n",
    "5. Both threads write their updated values (6) back to the counter, overwriting each other's changes.\n",
    "   \n",
    "In this case, the counter should have been incremented twice, resulting in a value of 7, but due to the race condition, it ends up being incremented only once. The final value is incorrect, and the program's behavior becomes unpredictable."
   ]
  },
  {
   "cell_type": "code",
   "execution_count": null,
   "id": "35fdb34f-446d-48dd-9d8a-b0953d2112d4",
   "metadata": {},
   "outputs": [],
   "source": []
  },
  {
   "cell_type": "code",
   "execution_count": null,
   "id": "59f98af8-8aac-46e7-af6e-d398d4fcf037",
   "metadata": {},
   "outputs": [],
   "source": []
  }
 ],
 "metadata": {
  "kernelspec": {
   "display_name": "Python 3 (ipykernel)",
   "language": "python",
   "name": "python3"
  },
  "language_info": {
   "codemirror_mode": {
    "name": "ipython",
    "version": 3
   },
   "file_extension": ".py",
   "mimetype": "text/x-python",
   "name": "python",
   "nbconvert_exporter": "python",
   "pygments_lexer": "ipython3",
   "version": "3.10.8"
  }
 },
 "nbformat": 4,
 "nbformat_minor": 5
}
